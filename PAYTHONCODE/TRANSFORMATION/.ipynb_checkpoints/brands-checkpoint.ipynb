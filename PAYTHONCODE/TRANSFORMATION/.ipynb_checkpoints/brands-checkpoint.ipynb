{
 "cells": [
  {
   "cell_type": "code",
   "execution_count": 1,
   "id": "b20d5fcb",
   "metadata": {},
   "outputs": [],
   "source": [
    "from fun import process_csv\n",
    "process_csv('/home/malak/staging_1/brands/brands.csv', '/home/malak/staging_2/brands/brands.csv', 'extract_time')\n"
   ]
  },
  {
   "cell_type": "code",
   "execution_count": null,
   "id": "77961f20",
   "metadata": {},
   "outputs": [],
   "source": []
  }
 ],
 "metadata": {
  "kernelspec": {
   "display_name": "Python 3 (ipykernel)",
   "language": "python",
   "name": "python3"
  },
  "language_info": {
   "codemirror_mode": {
    "name": "ipython",
    "version": 3
   },
   "file_extension": ".py",
   "mimetype": "text/x-python",
   "name": "python",
   "nbconvert_exporter": "python",
   "pygments_lexer": "ipython3",
   "version": "3.9.12"
  }
 },
 "nbformat": 4,
 "nbformat_minor": 5
}
