{
 "cells": [
  {
   "cell_type": "code",
   "execution_count": 1,
   "id": "3de2df62",
   "metadata": {},
   "outputs": [],
   "source": [
    "from fun import process_csv\n",
    "process_csv('/home/malak/staging_1/categories/categories.csv', '/home/malak/staging_2/categories/categories.csv', 'extract_time')\n"
   ]
  },
  {
   "cell_type": "code",
   "execution_count": null,
   "id": "0e7a38b1",
   "metadata": {},
   "outputs": [],
   "source": []
  }
 ],
 "metadata": {
  "kernelspec": {
   "display_name": "Python 3 (ipykernel)",
   "language": "python",
   "name": "python3"
  },
  "language_info": {
   "codemirror_mode": {
    "name": "ipython",
    "version": 3
   },
   "file_extension": ".py",
   "mimetype": "text/x-python",
   "name": "python",
   "nbconvert_exporter": "python",
   "pygments_lexer": "ipython3",
   "version": "3.9.12"
  }
 },
 "nbformat": 4,
 "nbformat_minor": 5
}
