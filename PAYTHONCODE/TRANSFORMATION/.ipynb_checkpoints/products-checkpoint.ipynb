{
 "cells": [
  {
   "cell_type": "code",
   "execution_count": 20,
   "id": "bf01e668",
   "metadata": {},
   "outputs": [],
   "source": [
    "\n",
    "from fun import process_csv \n",
    "process_csv('/home/malak/staging_1/products/products.csv', '/home/malak/staging_2/products/products.csv'  , 'extract_time')"
   ]
  },
  {
   "cell_type": "code",
   "execution_count": 26,
   "id": "e5586817",
   "metadata": {},
   "outputs": [],
   "source": [
    "import pandas as pd\n",
    "df = pd.read_csv('/home/malak/staging_2/products/products.csv', header=0)"
   ]
  },
  {
   "cell_type": "code",
   "execution_count": 27,
   "id": "01cb33da",
   "metadata": {},
   "outputs": [
    {
     "name": "stdout",
     "output_type": "stream",
     "text": [
      "<class 'pandas.core.frame.DataFrame'>\n",
      "RangeIndex: 321 entries, 0 to 320\n",
      "Data columns (total 8 columns):\n",
      " #   Column        Non-Null Count  Dtype  \n",
      "---  ------        --------------  -----  \n",
      " 0   product_id    321 non-null    int64  \n",
      " 1   product_name  321 non-null    object \n",
      " 2   brand_id      321 non-null    int64  \n",
      " 3   category_id   321 non-null    int64  \n",
      " 4   model_year    321 non-null    int64  \n",
      " 5   list_price    321 non-null    float64\n",
      " 6   extract_time  321 non-null    object \n",
      " 7   source_name   321 non-null    object \n",
      "dtypes: float64(1), int64(4), object(3)\n",
      "memory usage: 20.2+ KB\n"
     ]
    }
   ],
   "source": [
    "df.info()"
   ]
  },
  {
   "cell_type": "code",
   "execution_count": 23,
   "id": "badb1776",
   "metadata": {},
   "outputs": [],
   "source": [
    "df['extract_time'] = pd.to_datetime(df['extract_time'])"
   ]
  },
  {
   "cell_type": "code",
   "execution_count": 25,
   "id": "77cf1043",
   "metadata": {},
   "outputs": [],
   "source": [
    "df.to_csv('/home/malak/staging_2/products/products.csv', index=False)"
   ]
  },
  {
   "cell_type": "code",
   "execution_count": null,
   "id": "e01b23a1",
   "metadata": {},
   "outputs": [],
   "source": []
  }
 ],
 "metadata": {
  "kernelspec": {
   "display_name": "Python 3 (ipykernel)",
   "language": "python",
   "name": "python3"
  },
  "language_info": {
   "codemirror_mode": {
    "name": "ipython",
    "version": 3
   },
   "file_extension": ".py",
   "mimetype": "text/x-python",
   "name": "python",
   "nbconvert_exporter": "python",
   "pygments_lexer": "ipython3",
   "version": "3.9.12"
  }
 },
 "nbformat": 4,
 "nbformat_minor": 5
}
