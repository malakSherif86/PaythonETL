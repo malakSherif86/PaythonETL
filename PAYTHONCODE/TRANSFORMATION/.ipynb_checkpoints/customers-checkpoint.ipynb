{
 "cells": [
  {
   "cell_type": "code",
   "execution_count": 8,
   "id": "fe481a0d",
   "metadata": {},
   "outputs": [],
   "source": [
    "import pandas as pd\n",
    "\n",
    "c = pd.read_csv('/home/malak/staging_1/customers/customers.csv')"
   ]
  },
  {
   "cell_type": "code",
   "execution_count": 3,
   "id": "68994fc7",
   "metadata": {},
   "outputs": [
    {
     "name": "stdout",
     "output_type": "stream",
     "text": [
      "<class 'pandas.core.frame.DataFrame'>\n",
      "RangeIndex: 178 entries, 0 to 177\n",
      "Data columns (total 11 columns):\n",
      " #   Column        Non-Null Count  Dtype \n",
      "---  ------        --------------  ----- \n",
      " 0   customer_id   178 non-null    int64 \n",
      " 1   first_name    178 non-null    object\n",
      " 2   last_name     178 non-null    object\n",
      " 3   phone         178 non-null    object\n",
      " 4   email         178 non-null    object\n",
      " 5   street        178 non-null    object\n",
      " 6   city          178 non-null    object\n",
      " 7   state         178 non-null    object\n",
      " 8   zip_code      178 non-null    int64 \n",
      " 9   extract_time  178 non-null    object\n",
      " 10  source_name   178 non-null    object\n",
      "dtypes: int64(2), object(9)\n",
      "memory usage: 15.4+ KB\n"
     ]
    }
   ],
   "source": []
  },
  {
   "cell_type": "code",
   "execution_count": 6,
   "id": "040e37de",
   "metadata": {},
   "outputs": [],
   "source": [
    "stores = pd.read_csv('/home/malak/staging_1/stores/stores.csv')"
   ]
  },
  {
   "cell_type": "code",
   "execution_count": 7,
   "id": "d022a394",
   "metadata": {},
   "outputs": [
    {
     "data": {
      "text/html": [
       "<div>\n",
       "<style scoped>\n",
       "    .dataframe tbody tr th:only-of-type {\n",
       "        vertical-align: middle;\n",
       "    }\n",
       "\n",
       "    .dataframe tbody tr th {\n",
       "        vertical-align: top;\n",
       "    }\n",
       "\n",
       "    .dataframe thead th {\n",
       "        text-align: right;\n",
       "    }\n",
       "</style>\n",
       "<table border=\"1\" class=\"dataframe\">\n",
       "  <thead>\n",
       "    <tr style=\"text-align: right;\">\n",
       "      <th></th>\n",
       "      <th>store_id</th>\n",
       "      <th>store_name</th>\n",
       "      <th>phone</th>\n",
       "      <th>email</th>\n",
       "      <th>street</th>\n",
       "      <th>city</th>\n",
       "      <th>state</th>\n",
       "      <th>zip_code</th>\n",
       "      <th>extract_time</th>\n",
       "      <th>source_name</th>\n",
       "    </tr>\n",
       "  </thead>\n",
       "  <tbody>\n",
       "    <tr>\n",
       "      <th>0</th>\n",
       "      <td>1</td>\n",
       "      <td>Santa Cruz Bikes</td>\n",
       "      <td>(831) 476-4321</td>\n",
       "      <td>(831) 476-4321</td>\n",
       "      <td>3700 Portola Drive</td>\n",
       "      <td>Santa Cruz</td>\n",
       "      <td>CA</td>\n",
       "      <td>NaN</td>\n",
       "      <td>2024-04-30 23:48:31.772957</td>\n",
       "      <td>/home/malak/bikestore_dim/stores/stores.csv</td>\n",
       "    </tr>\n",
       "    <tr>\n",
       "      <th>1</th>\n",
       "      <td>2</td>\n",
       "      <td>Baldwin Bikes</td>\n",
       "      <td>(516) 379-8888</td>\n",
       "      <td>baldwin@bikes.shop</td>\n",
       "      <td>4200 Chestnut Lane</td>\n",
       "      <td>Baldwin</td>\n",
       "      <td>NY</td>\n",
       "      <td>11432.0</td>\n",
       "      <td>2024-04-30 23:48:31.772957</td>\n",
       "      <td>/home/malak/bikestore_dim/stores/stores.csv</td>\n",
       "    </tr>\n",
       "    <tr>\n",
       "      <th>2</th>\n",
       "      <td>3</td>\n",
       "      <td>Rowlett Bikes</td>\n",
       "      <td>(972) 530-5555</td>\n",
       "      <td>rowlett@bikes.shop</td>\n",
       "      <td>8000 Fairway Avenue</td>\n",
       "      <td>Rowlett</td>\n",
       "      <td>TX</td>\n",
       "      <td>75088.0</td>\n",
       "      <td>2024-04-30 23:48:31.772957</td>\n",
       "      <td>/home/malak/bikestore_dim/stores/stores.csv</td>\n",
       "    </tr>\n",
       "  </tbody>\n",
       "</table>\n",
       "</div>"
      ],
      "text/plain": [
       "   store_id        store_name           phone               email  \\\n",
       "0         1  Santa Cruz Bikes  (831) 476-4321      (831) 476-4321   \n",
       "1         2     Baldwin Bikes  (516) 379-8888  baldwin@bikes.shop   \n",
       "2         3     Rowlett Bikes  (972) 530-5555  rowlett@bikes.shop   \n",
       "\n",
       "                street        city state  zip_code  \\\n",
       "0   3700 Portola Drive  Santa Cruz    CA       NaN   \n",
       "1   4200 Chestnut Lane     Baldwin    NY   11432.0   \n",
       "2  8000 Fairway Avenue     Rowlett    TX   75088.0   \n",
       "\n",
       "                 extract_time                                  source_name  \n",
       "0  2024-04-30 23:48:31.772957  /home/malak/bikestore_dim/stores/stores.csv  \n",
       "1  2024-04-30 23:48:31.772957  /home/malak/bikestore_dim/stores/stores.csv  \n",
       "2  2024-04-30 23:48:31.772957  /home/malak/bikestore_dim/stores/stores.csv  "
      ]
     },
     "execution_count": 7,
     "metadata": {},
     "output_type": "execute_result"
    }
   ],
   "source": [
    "stores"
   ]
  },
  {
   "cell_type": "code",
   "execution_count": 16,
   "id": "365d5e78",
   "metadata": {},
   "outputs": [],
   "source": [
    "\n",
    "\n",
    "# Get the list of cities with stores\n",
    "cities_with_stores = stores['city'].unique()\n",
    "\n",
    "# Add a new column to the c DataFrame indicating whether the customer lives in a city with a store\n",
    "c['local'] = c['city'].isin(cities_with_stores)\n",
    "\n",
    "# Convert the boolean values to the desired format (True if the customer's city matches any city in stores, False otherwise)\n",
    "c['local'] = c['local'] & (c['local'] == True)\n",
    "\n"
   ]
  },
  {
   "cell_type": "code",
   "execution_count": 20,
   "id": "f871126c",
   "metadata": {},
   "outputs": [],
   "source": [
    "ccities_with_stores = c['local'].unique()"
   ]
  },
  {
   "cell_type": "code",
   "execution_count": 19,
   "id": "4e9a7c65",
   "metadata": {},
   "outputs": [
    {
     "data": {
      "text/plain": [
       "array([False])"
      ]
     },
     "execution_count": 19,
     "metadata": {},
     "output_type": "execute_result"
    }
   ],
   "source": [
    "ccities_with_stores"
   ]
  },
  {
   "cell_type": "code",
   "execution_count": 22,
   "id": "2b3f148f",
   "metadata": {},
   "outputs": [],
   "source": [
    "cu = c['city'].unique()"
   ]
  },
  {
   "cell_type": "code",
   "execution_count": 23,
   "id": "f4d71110",
   "metadata": {},
   "outputs": [
    {
     "data": {
      "text/plain": [
       "array(['Sacramento', 'Buffalo', 'Hempstead', 'New York', 'Long Beach',\n",
       "       'Oakland', 'Lancaster', 'Houston', 'San Diego', 'Troy', 'San Jose',\n",
       "       'Anaheim', 'Fresno', 'Corpus Christi', 'Oxnard', 'Albany',\n",
       "       'Oceanside', 'Brentwood', 'El Paso', 'Yonkers', 'Rochester',\n",
       "       'Bakersfield', 'Fort Worth', 'New City', 'Los Angeles',\n",
       "       'San Antonio'], dtype=object)"
      ]
     },
     "execution_count": 23,
     "metadata": {},
     "output_type": "execute_result"
    }
   ],
   "source": [
    "cu"
   ]
  },
  {
   "cell_type": "code",
   "execution_count": 24,
   "id": "ced5f361",
   "metadata": {},
   "outputs": [
    {
     "data": {
      "text/plain": [
       "array(['Santa Cruz', 'Baldwin', 'Rowlett'], dtype=object)"
      ]
     },
     "execution_count": 24,
     "metadata": {},
     "output_type": "execute_result"
    }
   ],
   "source": [
    "cities_with_stores"
   ]
  },
  {
   "cell_type": "code",
   "execution_count": 30,
   "id": "d4d25808",
   "metadata": {},
   "outputs": [],
   "source": []
  },
  {
   "cell_type": "code",
   "execution_count": 28,
   "id": "0efe721d",
   "metadata": {},
   "outputs": [
    {
     "name": "stdout",
     "output_type": "stream",
     "text": [
      "<class 'pandas.core.frame.DataFrame'>\n",
      "RangeIndex: 178 entries, 0 to 177\n",
      "Data columns (total 12 columns):\n",
      " #   Column        Non-Null Count  Dtype         \n",
      "---  ------        --------------  -----         \n",
      " 0   customer_id   178 non-null    int64         \n",
      " 1   first_name    178 non-null    object        \n",
      " 2   last_name     178 non-null    object        \n",
      " 3   phone         178 non-null    object        \n",
      " 4   email         178 non-null    object        \n",
      " 5   street        178 non-null    object        \n",
      " 6   city          178 non-null    object        \n",
      " 7   state         178 non-null    object        \n",
      " 8   zip_code      178 non-null    int64         \n",
      " 9   extract_time  178 non-null    datetime64[ns]\n",
      " 10  source_name   178 non-null    object        \n",
      " 11  local         178 non-null    bool          \n",
      "dtypes: bool(1), datetime64[ns](1), int64(2), object(8)\n",
      "memory usage: 15.6+ KB\n"
     ]
    }
   ],
   "source": [
    "c.info()"
   ]
  },
  {
   "cell_type": "code",
   "execution_count": 27,
   "id": "13885b17",
   "metadata": {},
   "outputs": [],
   "source": [
    "c['extract_time'] = pd.to_datetime(c['extract_time'])\n"
   ]
  },
  {
   "cell_type": "code",
   "execution_count": null,
   "id": "5ca37cd6",
   "metadata": {},
   "outputs": [],
   "source": [
    "c.to_csv('/home/malak/staging_2/customers/customers.csv')"
   ]
  }
 ],
 "metadata": {
  "kernelspec": {
   "display_name": "Python 3 (ipykernel)",
   "language": "python",
   "name": "python3"
  },
  "language_info": {
   "codemirror_mode": {
    "name": "ipython",
    "version": 3
   },
   "file_extension": ".py",
   "mimetype": "text/x-python",
   "name": "python",
   "nbconvert_exporter": "python",
   "pygments_lexer": "ipython3",
   "version": "3.9.12"
  }
 },
 "nbformat": 4,
 "nbformat_minor": 5
}
