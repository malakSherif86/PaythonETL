{
 "cells": [
  {
   "cell_type": "code",
   "execution_count": 1,
   "id": "93360050",
   "metadata": {},
   "outputs": [],
   "source": [
    "from fun import process_csv\n",
    "process_csv('/home/malak/staging_1/stocks/stocks.csv', '/home/malak/staging_2/stocks/stocks.csv', 'extract_time')\n"
   ]
  },
  {
   "cell_type": "code",
   "execution_count": null,
   "id": "41b257bf",
   "metadata": {},
   "outputs": [],
   "source": []
  }
 ],
 "metadata": {
  "kernelspec": {
   "display_name": "Python 3 (ipykernel)",
   "language": "python",
   "name": "python3"
  },
  "language_info": {
   "codemirror_mode": {
    "name": "ipython",
    "version": 3
   },
   "file_extension": ".py",
   "mimetype": "text/x-python",
   "name": "python",
   "nbconvert_exporter": "python",
   "pygments_lexer": "ipython3",
   "version": "3.9.12"
  }
 },
 "nbformat": 4,
 "nbformat_minor": 5
}
