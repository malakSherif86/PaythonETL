{
 "cells": [
  {
   "cell_type": "code",
   "execution_count": 1,
   "id": "8694d020",
   "metadata": {},
   "outputs": [
    {
     "name": "stdout",
     "output_type": "stream",
     "text": [
      "Data has been cleaned successfully. No nulls or duplicates found.\n"
     ]
    }
   ],
   "source": [
    "from data_cleaning import clean_csv\n",
    "\n",
    "input_file_path = '/home/malak/landing/brands/brands.csv'  \n",
    "output_file_path = '/home/malak/staging_1/brands/brands.csv'  \n",
    "clean_csv(input_file_path, output_file_path)\n"
   ]
  },
  {
   "cell_type": "code",
   "execution_count": 3,
   "id": "5a9fb9f5",
   "metadata": {},
   "outputs": [],
   "source": [
    "import pandas as pd\n",
    "df = pd.read_csv('/home/malak/staging_1/brands/brands.csv'  , header=0)\n"
   ]
  },
  {
   "cell_type": "code",
   "execution_count": 4,
   "id": "3280bb0e",
   "metadata": {},
   "outputs": [
    {
     "data": {
      "text/html": [
       "<div>\n",
       "<style scoped>\n",
       "    .dataframe tbody tr th:only-of-type {\n",
       "        vertical-align: middle;\n",
       "    }\n",
       "\n",
       "    .dataframe tbody tr th {\n",
       "        vertical-align: top;\n",
       "    }\n",
       "\n",
       "    .dataframe thead th {\n",
       "        text-align: right;\n",
       "    }\n",
       "</style>\n",
       "<table border=\"1\" class=\"dataframe\">\n",
       "  <thead>\n",
       "    <tr style=\"text-align: right;\">\n",
       "      <th></th>\n",
       "      <th>brand_id</th>\n",
       "      <th>brand_name</th>\n",
       "      <th>extract_time</th>\n",
       "      <th>source_name</th>\n",
       "    </tr>\n",
       "  </thead>\n",
       "  <tbody>\n",
       "    <tr>\n",
       "      <th>0</th>\n",
       "      <td>1</td>\n",
       "      <td>Electra</td>\n",
       "      <td>2024-04-30 23:48:32.824615</td>\n",
       "      <td>/home/malak/bikestore_dim/brands/brands.csv</td>\n",
       "    </tr>\n",
       "    <tr>\n",
       "      <th>1</th>\n",
       "      <td>2</td>\n",
       "      <td>Haro</td>\n",
       "      <td>2024-04-30 23:48:32.824615</td>\n",
       "      <td>/home/malak/bikestore_dim/brands/brands.csv</td>\n",
       "    </tr>\n",
       "    <tr>\n",
       "      <th>2</th>\n",
       "      <td>3</td>\n",
       "      <td>Heller</td>\n",
       "      <td>2024-04-30 23:48:32.824615</td>\n",
       "      <td>/home/malak/bikestore_dim/brands/brands.csv</td>\n",
       "    </tr>\n",
       "    <tr>\n",
       "      <th>3</th>\n",
       "      <td>4</td>\n",
       "      <td>Pure Cycles</td>\n",
       "      <td>2024-04-30 23:48:32.824615</td>\n",
       "      <td>/home/malak/bikestore_dim/brands/brands.csv</td>\n",
       "    </tr>\n",
       "    <tr>\n",
       "      <th>4</th>\n",
       "      <td>5</td>\n",
       "      <td>Ritchey</td>\n",
       "      <td>2024-04-30 23:48:32.824615</td>\n",
       "      <td>/home/malak/bikestore_dim/brands/brands.csv</td>\n",
       "    </tr>\n",
       "    <tr>\n",
       "      <th>5</th>\n",
       "      <td>6</td>\n",
       "      <td>Strider</td>\n",
       "      <td>2024-04-30 23:48:32.824615</td>\n",
       "      <td>/home/malak/bikestore_dim/brands/brands.csv</td>\n",
       "    </tr>\n",
       "    <tr>\n",
       "      <th>6</th>\n",
       "      <td>7</td>\n",
       "      <td>Sun Bicycles</td>\n",
       "      <td>2024-04-30 23:48:32.824615</td>\n",
       "      <td>/home/malak/bikestore_dim/brands/brands.csv</td>\n",
       "    </tr>\n",
       "    <tr>\n",
       "      <th>7</th>\n",
       "      <td>8</td>\n",
       "      <td>Surly</td>\n",
       "      <td>2024-04-30 23:48:32.824615</td>\n",
       "      <td>/home/malak/bikestore_dim/brands/brands.csv</td>\n",
       "    </tr>\n",
       "    <tr>\n",
       "      <th>8</th>\n",
       "      <td>9</td>\n",
       "      <td>Trek</td>\n",
       "      <td>2024-04-30 23:48:32.824615</td>\n",
       "      <td>/home/malak/bikestore_dim/brands/brands.csv</td>\n",
       "    </tr>\n",
       "  </tbody>\n",
       "</table>\n",
       "</div>"
      ],
      "text/plain": [
       "   brand_id    brand_name                extract_time  \\\n",
       "0         1       Electra  2024-04-30 23:48:32.824615   \n",
       "1         2          Haro  2024-04-30 23:48:32.824615   \n",
       "2         3        Heller  2024-04-30 23:48:32.824615   \n",
       "3         4   Pure Cycles  2024-04-30 23:48:32.824615   \n",
       "4         5       Ritchey  2024-04-30 23:48:32.824615   \n",
       "5         6       Strider  2024-04-30 23:48:32.824615   \n",
       "6         7  Sun Bicycles  2024-04-30 23:48:32.824615   \n",
       "7         8         Surly  2024-04-30 23:48:32.824615   \n",
       "8         9          Trek  2024-04-30 23:48:32.824615   \n",
       "\n",
       "                                   source_name  \n",
       "0  /home/malak/bikestore_dim/brands/brands.csv  \n",
       "1  /home/malak/bikestore_dim/brands/brands.csv  \n",
       "2  /home/malak/bikestore_dim/brands/brands.csv  \n",
       "3  /home/malak/bikestore_dim/brands/brands.csv  \n",
       "4  /home/malak/bikestore_dim/brands/brands.csv  \n",
       "5  /home/malak/bikestore_dim/brands/brands.csv  \n",
       "6  /home/malak/bikestore_dim/brands/brands.csv  \n",
       "7  /home/malak/bikestore_dim/brands/brands.csv  \n",
       "8  /home/malak/bikestore_dim/brands/brands.csv  "
      ]
     },
     "execution_count": 4,
     "metadata": {},
     "output_type": "execute_result"
    }
   ],
   "source": [
    "df"
   ]
  },
  {
   "cell_type": "code",
   "execution_count": null,
   "id": "672c2c65",
   "metadata": {},
   "outputs": [],
   "source": []
  },
  {
   "cell_type": "code",
   "execution_count": null,
   "id": "b4f3aef0",
   "metadata": {},
   "outputs": [],
   "source": []
  },
  {
   "cell_type": "code",
   "execution_count": null,
   "id": "38d46e20",
   "metadata": {},
   "outputs": [],
   "source": []
  }
 ],
 "metadata": {
  "kernelspec": {
   "display_name": "Python 3 (ipykernel)",
   "language": "python",
   "name": "python3"
  },
  "language_info": {
   "codemirror_mode": {
    "name": "ipython",
    "version": 3
   },
   "file_extension": ".py",
   "mimetype": "text/x-python",
   "name": "python",
   "nbconvert_exporter": "python",
   "pygments_lexer": "ipython3",
   "version": "3.9.12"
  }
 },
 "nbformat": 4,
 "nbformat_minor": 5
}
