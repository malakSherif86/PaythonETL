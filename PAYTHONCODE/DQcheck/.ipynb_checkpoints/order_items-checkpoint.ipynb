{
 "cells": [
  {
   "cell_type": "code",
   "execution_count": 4,
   "id": "585ed67d",
   "metadata": {},
   "outputs": [],
   "source": [
    "import pandas as pd\n",
    "\n",
    "df = pd.read_csv('/home/malak/landing/order_items/order_items.csv', header=0)"
   ]
  },
  {
   "cell_type": "code",
   "execution_count": 13,
   "id": "11c16ac2",
   "metadata": {
    "scrolled": true
   },
   "outputs": [
    {
     "name": "stdout",
     "output_type": "stream",
     "text": [
      "Null counts per column:\n",
      "order_id        0\n",
      "item_id         0\n",
      "product_id      0\n",
      "quantity        0\n",
      "list_price      0\n",
      "discount        0\n",
      "extract_time    0\n",
      "source_name     0\n",
      "dtype: int64\n",
      "\n",
      "Any null values per column:\n",
      "order_id        False\n",
      "item_id         False\n",
      "product_id      False\n",
      "quantity        False\n",
      "list_price      False\n",
      "discount        False\n",
      "extract_time    False\n",
      "source_name     False\n",
      "dtype: bool\n"
     ]
    }
   ],
   "source": [
    "\n",
    "null_values = df.isnull()\n",
    "\n",
    "null_counts = null_values.sum()\n",
    "\n",
    "any_null = null_values.any()\n",
    "\n",
    "print(\"Null counts per column:\")\n",
    "print(null_counts)\n",
    "print(\"\\nAny null values per column:\")\n",
    "print(any_null)\n"
   ]
  },
  {
   "cell_type": "code",
   "execution_count": 22,
   "id": "b9961c4d",
   "metadata": {},
   "outputs": [
    {
     "name": "stderr",
     "output_type": "stream",
     "text": [
      "/tmp/ipykernel_4013/2974618786.py:1: SettingWithCopyWarning: \n",
      "A value is trying to be set on a copy of a slice from a DataFrame.\n",
      "Try using .loc[row_indexer,col_indexer] = value instead\n",
      "\n",
      "See the caveats in the documentation: https://pandas.pydata.org/pandas-docs/stable/user_guide/indexing.html#returning-a-view-versus-a-copy\n",
      "  df['extract_time'] = pd.to_datetime(df['extract_time'])\n"
     ]
    }
   ],
   "source": [
    "df['extract_time'] = pd.to_datetime(df['extract_time'])\n"
   ]
  },
  {
   "cell_type": "code",
   "execution_count": 23,
   "id": "5744df5d",
   "metadata": {},
   "outputs": [
    {
     "name": "stderr",
     "output_type": "stream",
     "text": [
      "/tmp/ipykernel_4013/19610585.py:2: SettingWithCopyWarning: \n",
      "A value is trying to be set on a copy of a slice from a DataFrame.\n",
      "Try using .loc[row_indexer,col_indexer] = value instead\n",
      "\n",
      "See the caveats in the documentation: https://pandas.pydata.org/pandas-docs/stable/user_guide/indexing.html#returning-a-view-versus-a-copy\n",
      "  df['item_id'] = pd.to_numeric(df['item_id'], errors='coerce').astype('Int64')\n"
     ]
    }
   ],
   "source": [
    "# Convert the 'item_id' column to integer type handling errors\n",
    "df['item_id'] = pd.to_numeric(df['item_id'], errors='coerce').astype('Int64')\n"
   ]
  },
  {
   "cell_type": "code",
   "execution_count": null,
   "id": "f55a6aee",
   "metadata": {},
   "outputs": [],
   "source": []
  },
  {
   "cell_type": "code",
   "execution_count": null,
   "id": "eddb8c39",
   "metadata": {},
   "outputs": [],
   "source": [
    "duplicates_exist = df.duplicated().any()\n",
    "if not duplicates_exist:\n",
    "    print(\"No duplicate rows exist in the cleaned DataFrame.\")\n",
    "else:\n",
    "    print(\"Duplicate rows still exist in the cleaned DataFrame.\")"
   ]
  },
  {
   "cell_type": "code",
   "execution_count": 21,
   "id": "702d11ad",
   "metadata": {},
   "outputs": [
    {
     "name": "stdout",
     "output_type": "stream",
     "text": [
      "Empty DataFrame\n",
      "Columns: [order_id, item_id, product_id, quantity, list_price, discount, extract_time, source_name]\n",
      "Index: []\n"
     ]
    }
   ],
   "source": [
    "duplicate_rows = df.duplicated()\n",
    "print(df[duplicate_rows])\n",
    "df = df.drop_duplicates(subset=['order_id'])"
   ]
  },
  {
   "cell_type": "code",
   "execution_count": 24,
   "id": "91dd886f",
   "metadata": {},
   "outputs": [
    {
     "name": "stdout",
     "output_type": "stream",
     "text": [
      "<class 'pandas.core.frame.DataFrame'>\n",
      "Int64Index: 1615 entries, 0 to 4753\n",
      "Data columns (total 8 columns):\n",
      " #   Column        Non-Null Count  Dtype         \n",
      "---  ------        --------------  -----         \n",
      " 0   order_id      1615 non-null   int64         \n",
      " 1   item_id       1615 non-null   Int64         \n",
      " 2   product_id    1615 non-null   int64         \n",
      " 3   quantity      1615 non-null   int64         \n",
      " 4   list_price    1615 non-null   float64       \n",
      " 5   discount      1615 non-null   float64       \n",
      " 6   extract_time  1615 non-null   datetime64[ns]\n",
      " 7   source_name   1615 non-null   object        \n",
      "dtypes: Int64(1), datetime64[ns](1), float64(2), int64(3), object(1)\n",
      "memory usage: 115.1+ KB\n"
     ]
    }
   ],
   "source": [
    "df.info()\n"
   ]
  },
  {
   "cell_type": "code",
   "execution_count": 25,
   "id": "52c0ec4b",
   "metadata": {},
   "outputs": [],
   "source": [
    "df = df[(df['list_price'] >= 200) & (df['list_price'] <= 10000)]\n"
   ]
  },
  {
   "cell_type": "code",
   "execution_count": 26,
   "id": "72db5414",
   "metadata": {},
   "outputs": [],
   "source": [
    "products_df = pd.read_csv('/home/malak/staging_1/products/products.csv')"
   ]
  },
  {
   "cell_type": "code",
   "execution_count": 27,
   "id": "25fc35ff",
   "metadata": {},
   "outputs": [],
   "source": [
    "uni_product_ids = set(products_df['product_id'])\n"
   ]
  },
  {
   "cell_type": "code",
   "execution_count": 28,
   "id": "8f58f7c7",
   "metadata": {},
   "outputs": [],
   "source": [
    "df_filtered = df[df['product_id'].isin(uni_product_ids)]"
   ]
  },
  {
   "cell_type": "code",
   "execution_count": 31,
   "id": "d5e2a145",
   "metadata": {},
   "outputs": [
    {
     "name": "stdout",
     "output_type": "stream",
     "text": [
      "<class 'pandas.core.frame.DataFrame'>\n",
      "Int64Index: 1579 entries, 0 to 4753\n",
      "Data columns (total 8 columns):\n",
      " #   Column        Non-Null Count  Dtype         \n",
      "---  ------        --------------  -----         \n",
      " 0   order_id      1579 non-null   int64         \n",
      " 1   item_id       1579 non-null   Int64         \n",
      " 2   product_id    1579 non-null   int64         \n",
      " 3   quantity      1579 non-null   int64         \n",
      " 4   list_price    1579 non-null   float64       \n",
      " 5   discount      1579 non-null   float64       \n",
      " 6   extract_time  1579 non-null   datetime64[ns]\n",
      " 7   source_name   1579 non-null   object        \n",
      "dtypes: Int64(1), datetime64[ns](1), float64(2), int64(3), object(1)\n",
      "memory usage: 112.6+ KB\n"
     ]
    }
   ],
   "source": [
    "df_filtered.info()"
   ]
  },
  {
   "cell_type": "code",
   "execution_count": 32,
   "id": "e24adcb2",
   "metadata": {},
   "outputs": [],
   "source": [
    "df_filtered.to_csv('/home/malak/staging_1/order_items/order_items.csv', index=False)"
   ]
  },
  {
   "cell_type": "code",
   "execution_count": null,
   "id": "6b7b815f",
   "metadata": {},
   "outputs": [],
   "source": []
  }
 ],
 "metadata": {
  "kernelspec": {
   "display_name": "Python 3 (ipykernel)",
   "language": "python",
   "name": "python3"
  },
  "language_info": {
   "codemirror_mode": {
    "name": "ipython",
    "version": 3
   },
   "file_extension": ".py",
   "mimetype": "text/x-python",
   "name": "python",
   "nbconvert_exporter": "python",
   "pygments_lexer": "ipython3",
   "version": "3.9.12"
  }
 },
 "nbformat": 4,
 "nbformat_minor": 5
}
