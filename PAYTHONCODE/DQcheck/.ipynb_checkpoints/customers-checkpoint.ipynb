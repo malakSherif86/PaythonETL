{
 "cells": [
  {
   "cell_type": "code",
   "execution_count": null,
   "id": "22919f0d",
   "metadata": {},
   "outputs": [],
   "source": [
    "from data_cleaning import clean_csv\n",
    "\n",
    "input_file_path = '/home/malak/landing/customers/customers.csv'\n",
    "output_file_path = '/home/malak/staging_1/customers/customers.csv'  \n",
    "clean_csv(input_file_path, output_file_path)\n"
   ]
  },
  {
   "cell_type": "code",
   "execution_count": null,
   "id": "0fcd210e",
   "metadata": {},
   "outputs": [],
   "source": []
  }
 ],
 "metadata": {
  "kernelspec": {
   "display_name": "Python 3 (ipykernel)",
   "language": "python",
   "name": "python3"
  },
  "language_info": {
   "codemirror_mode": {
    "name": "ipython",
    "version": 3
   },
   "file_extension": ".py",
   "mimetype": "text/x-python",
   "name": "python",
   "nbconvert_exporter": "python",
   "pygments_lexer": "ipython3",
   "version": "3.9.12"
  }
 },
 "nbformat": 4,
 "nbformat_minor": 5
}
