{
 "cells": [
  {
   "cell_type": "code",
   "execution_count": null,
   "id": "048480bb",
   "metadata": {},
   "outputs": [],
   "source": []
  },
  {
   "cell_type": "code",
   "execution_count": 5,
   "id": "6a5bc101",
   "metadata": {},
   "outputs": [
    {
     "name": "stdout",
     "output_type": "stream",
     "text": [
      "Null values per column:\n",
      "store_id        False\n",
      "store_name      False\n",
      "phone           False\n",
      "email           False\n",
      "street          False\n",
      "city            False\n",
      "state           False\n",
      "zip_code        False\n",
      "extract_time    False\n",
      "source_name     False\n",
      "dtype: bool\n",
      "Duplicates exist: False\n"
     ]
    }
   ],
   "source": [
    "import pandas as pd\n",
    "\n",
    "store_df = pd.read_csv('/home/malak/landing/stores/stores.csv')\n",
    "\n",
    "if 'zip_code' in store_df.columns:\n",
    "    store_df['zip_code'].fillna(store_df['city'], inplace=True)\n",
    "\n",
    "store_df['email'].fillna(store_df['phone'], inplace=True)\n",
    "\n",
    "null_values = store_df.isnull().any()\n",
    "print(\"Null values per column:\")\n",
    "print(null_values)\n",
    "\n",
    "duplicates_exist = store_df.duplicated().any()\n",
    "print(\"Duplicates exist:\", duplicates_exist)\n",
    "\n",
    "store_df.to_csv('/home/malak/staging_1/stores/stores.csv', index=False)\n"
   ]
  },
  {
   "cell_type": "code",
   "execution_count": 6,
   "id": "c0362a25",
   "metadata": {},
   "outputs": [
    {
     "data": {
      "text/html": [
       "<div>\n",
       "<style scoped>\n",
       "    .dataframe tbody tr th:only-of-type {\n",
       "        vertical-align: middle;\n",
       "    }\n",
       "\n",
       "    .dataframe tbody tr th {\n",
       "        vertical-align: top;\n",
       "    }\n",
       "\n",
       "    .dataframe thead th {\n",
       "        text-align: right;\n",
       "    }\n",
       "</style>\n",
       "<table border=\"1\" class=\"dataframe\">\n",
       "  <thead>\n",
       "    <tr style=\"text-align: right;\">\n",
       "      <th></th>\n",
       "      <th>store_id</th>\n",
       "      <th>store_name</th>\n",
       "      <th>phone</th>\n",
       "      <th>email</th>\n",
       "      <th>street</th>\n",
       "      <th>city</th>\n",
       "      <th>state</th>\n",
       "      <th>zip_code</th>\n",
       "      <th>extract_time</th>\n",
       "      <th>source_name</th>\n",
       "    </tr>\n",
       "  </thead>\n",
       "  <tbody>\n",
       "    <tr>\n",
       "      <th>0</th>\n",
       "      <td>1</td>\n",
       "      <td>Santa Cruz Bikes</td>\n",
       "      <td>(831) 476-4321</td>\n",
       "      <td>(831) 476-4321</td>\n",
       "      <td>3700 Portola Drive</td>\n",
       "      <td>Santa Cruz</td>\n",
       "      <td>CA</td>\n",
       "      <td>Santa Cruz</td>\n",
       "      <td>2024-04-30 23:48:31.772957</td>\n",
       "      <td>/home/malak/bikestore_dim/stores/stores.csv</td>\n",
       "    </tr>\n",
       "    <tr>\n",
       "      <th>1</th>\n",
       "      <td>2</td>\n",
       "      <td>Baldwin Bikes</td>\n",
       "      <td>(516) 379-8888</td>\n",
       "      <td>baldwin@bikes.shop</td>\n",
       "      <td>4200 Chestnut Lane</td>\n",
       "      <td>Baldwin</td>\n",
       "      <td>NY</td>\n",
       "      <td>11432.0</td>\n",
       "      <td>2024-04-30 23:48:31.772957</td>\n",
       "      <td>/home/malak/bikestore_dim/stores/stores.csv</td>\n",
       "    </tr>\n",
       "    <tr>\n",
       "      <th>2</th>\n",
       "      <td>3</td>\n",
       "      <td>Rowlett Bikes</td>\n",
       "      <td>(972) 530-5555</td>\n",
       "      <td>rowlett@bikes.shop</td>\n",
       "      <td>8000 Fairway Avenue</td>\n",
       "      <td>Rowlett</td>\n",
       "      <td>TX</td>\n",
       "      <td>75088.0</td>\n",
       "      <td>2024-04-30 23:48:31.772957</td>\n",
       "      <td>/home/malak/bikestore_dim/stores/stores.csv</td>\n",
       "    </tr>\n",
       "  </tbody>\n",
       "</table>\n",
       "</div>"
      ],
      "text/plain": [
       "   store_id        store_name           phone               email  \\\n",
       "0         1  Santa Cruz Bikes  (831) 476-4321      (831) 476-4321   \n",
       "1         2     Baldwin Bikes  (516) 379-8888  baldwin@bikes.shop   \n",
       "2         3     Rowlett Bikes  (972) 530-5555  rowlett@bikes.shop   \n",
       "\n",
       "                street        city state    zip_code  \\\n",
       "0   3700 Portola Drive  Santa Cruz    CA  Santa Cruz   \n",
       "1   4200 Chestnut Lane     Baldwin    NY     11432.0   \n",
       "2  8000 Fairway Avenue     Rowlett    TX     75088.0   \n",
       "\n",
       "                 extract_time                                  source_name  \n",
       "0  2024-04-30 23:48:31.772957  /home/malak/bikestore_dim/stores/stores.csv  \n",
       "1  2024-04-30 23:48:31.772957  /home/malak/bikestore_dim/stores/stores.csv  \n",
       "2  2024-04-30 23:48:31.772957  /home/malak/bikestore_dim/stores/stores.csv  "
      ]
     },
     "execution_count": 6,
     "metadata": {},
     "output_type": "execute_result"
    }
   ],
   "source": [
    "store_df"
   ]
  },
  {
   "cell_type": "code",
   "execution_count": null,
   "id": "2600f2a1",
   "metadata": {},
   "outputs": [],
   "source": []
  }
 ],
 "metadata": {
  "kernelspec": {
   "display_name": "Python 3 (ipykernel)",
   "language": "python",
   "name": "python3"
  },
  "language_info": {
   "codemirror_mode": {
    "name": "ipython",
    "version": 3
   },
   "file_extension": ".py",
   "mimetype": "text/x-python",
   "name": "python",
   "nbconvert_exporter": "python",
   "pygments_lexer": "ipython3",
   "version": "3.9.12"
  }
 },
 "nbformat": 4,
 "nbformat_minor": 5
}
